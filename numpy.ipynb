{
 "cells": [
  {
   "cell_type": "markdown",
   "metadata": {},
   "source": [
    "# 单个数组\n"
   ]
  },
  {
   "cell_type": "markdown",
   "metadata": {},
   "source": [
    "## numpy数组的属性"
   ]
  },
  {
   "cell_type": "code",
   "execution_count": null,
   "metadata": {},
   "outputs": [],
   "source": [
    "import numpy as np\n",
    "\n",
    "array_1 = [[1,2,3],[5,6,7]]             # 普通的list数组\n",
    "array_2 = np.array([[1,2,3],[5,6,7]])   # 使用bp.array可以将list转换为numpy的矩阵格式\n",
    "print(array_2)\n",
    "print(\"dim : \", array_2.ndim)\n",
    "print(\"shape : \", array_2.shape)\n",
    "print(\"size : \", array_2.size)\n"
   ]
  },
  {
   "cell_type": "markdown",
   "metadata": {},
   "source": [
    "## numpy数组直接创建\n",
    "\n",
    "> [numpy官方手册](https://numpy.org/doc/stable/reference/generated/numpy.array.html)\n",
    "\n",
    "1. array\n",
    "2. arange\n",
    "3. linspace\n",
    "4. `numpy.zeros(shape, dtype=float, order='C', *, like=None)`\n",
    "5. `numpy.ones(shape, dtype=None, order='C', *, like=None)`\n",
    "6. `numpy.full(shape, fill_value, dtype=None, order='C', *, like=None)`\n",
    "7. `numpy.eye(N, M=None, k=0, dtype=<class 'float'>, order='C', *, like=None)`\n"
   ]
  },
  {
   "cell_type": "code",
   "execution_count": null,
   "metadata": {},
   "outputs": [],
   "source": [
    "import numpy as np\n",
    "\n",
    "# np.array\n",
    "a = np.array([12,34,500],np.int)\n",
    "# np.zeros\n",
    "b = np.zeros((3,4))\n",
    "print(b)\n",
    "print(b.dtype)"
   ]
  },
  {
   "cell_type": "markdown",
   "metadata": {},
   "source": [
    "## numpy从文件创建数组\n",
    "- fromfile\n",
    "- loadtxt"
   ]
  },
  {
   "cell_type": "code",
   "execution_count": null,
   "metadata": {},
   "outputs": [],
   "source": [
    "import numpy as np\n",
    "import matplotlib.pyplot as plt\n",
    "\n",
    "raw_path = './dataset/test.RAW'\n",
    "\n",
    "img = np.fromfile(raw_path,dtype=np.uint16,sep='')\n",
    "\n",
    "img = img.reshape((1080,1920))\n",
    "plt.imshow(img,cmap='gray',vmin=0,vmax=1023)\n",
    "plt.show()\n"
   ]
  },
  {
   "cell_type": "code",
   "execution_count": null,
   "metadata": {},
   "outputs": [],
   "source": [
    "import numpy as np \n",
    "import matplotlib.pyplot as plt\n",
    "\n",
    "file_path = './image/frame_1_raw.txt'\n",
    "width  = 100\n",
    "height = 100\n",
    "length = width*height\n",
    "\n",
    "img_str = np.loadtxt(file_path,dtype=str)\n",
    "img_int = np.zeros_like(img_str,dtype=np.uint8)\n",
    "for i in img_str:\n",
    "    img_int = np.append(img_str,i)\n",
    "\n",
    "#size = img_in.size\n",
    "\n",
    "\n",
    "# if size < length :\n",
    "#     zero= np.full(length-size,0)[:,np.newaxis]\n",
    "#     img = np.vstack((img_in,zero))\n",
    "# else :\n",
    "#     img = img_in[0:length]\n",
    "# \n",
    "# img = img.reshape(height,width)\n",
    "# \n",
    "# plt.imshow(img,cmap='gray',vmax=1023,vmin=0)\n",
    "# plt.show()\n",
    "# \n",
    "# "
   ]
  },
  {
   "cell_type": "markdown",
   "metadata": {},
   "source": [
    "## numpy单个数组操作\n",
    "- clip\n",
    "- max\n",
    "- mix\n",
    "- median\n",
    "- mid\n",
    "- flat\n",
    "- pad\n",
    "- flatten"
   ]
  },
  {
   "cell_type": "code",
   "execution_count": null,
   "metadata": {},
   "outputs": [],
   "source": [
    "import numpy as np\n",
    "\n",
    "a = np.arange(3,15).reshape((3,4))\n",
    "# flatten()\n",
    "b = a.flatten()\n",
    "c = np.pad(a,((1,3),(3,1)))\n",
    "print(c)"
   ]
  },
  {
   "cell_type": "markdown",
   "metadata": {},
   "source": [
    "## 数组切片"
   ]
  },
  {
   "cell_type": "code",
   "execution_count": 10,
   "metadata": {},
   "outputs": [
    {
     "name": "stdout",
     "output_type": "stream",
     "text": [
      "[[0. 1. 0. 1. 0. 1. 0. 1. 0. 1.]\n",
      " [2. 0. 2. 0. 2. 0. 2. 0. 2. 0.]\n",
      " [0. 1. 0. 1. 0. 1. 0. 1. 0. 1.]\n",
      " [2. 0. 2. 0. 2. 0. 2. 0. 2. 0.]\n",
      " [0. 1. 0. 1. 0. 1. 0. 1. 0. 1.]\n",
      " [2. 0. 2. 0. 2. 0. 2. 0. 2. 0.]\n",
      " [0. 1. 0. 1. 0. 1. 0. 1. 0. 1.]\n",
      " [2. 0. 2. 0. 2. 0. 2. 0. 2. 0.]\n",
      " [0. 1. 0. 1. 0. 1. 0. 1. 0. 1.]\n",
      " [2. 0. 2. 0. 2. 0. 2. 0. 2. 0.]]\n"
     ]
    }
   ],
   "source": [
    "import numpy as np \n",
    "\n",
    "\n",
    "a = np.zeros((10,10))\n",
    "a[0::2,1::2] = 1\n",
    "a[1::2,0::2] = 2\n",
    "print(a)\n"
   ]
  },
  {
   "cell_type": "markdown",
   "metadata": {},
   "source": [
    "# 多个数组"
   ]
  },
  {
   "cell_type": "markdown",
   "metadata": {},
   "source": [
    "## 数组融合meshgrid"
   ]
  },
  {
   "cell_type": "code",
   "execution_count": null,
   "metadata": {},
   "outputs": [],
   "source": [
    "import numpy as np\n",
    "\n",
    "x = np.arange(1,5)\n",
    "y = np.arange(6,8)\n",
    "xx,yy = np.meshgrid(x,y)\n",
    "print('x is :')\n",
    "print(x)\n",
    "print('y is :')\n",
    "print(y)\n",
    "print('xx is :')\n",
    "print(xx)\n",
    "print('yy is :')\n",
    "print(yy)"
   ]
  },
  {
   "cell_type": "code",
   "execution_count": null,
   "metadata": {},
   "outputs": [],
   "source": [
    "# 生成渐变图\n",
    "import numpy as np\n",
    "import matplotlib.pyplot as plt\n",
    "\n",
    "x = np.linspace(0,2**4,1920)\n",
    "y = np.linspace(0,2**4,1080)\n",
    "xx,yy = np.meshgrid(x,y)\n",
    "img = xx*yy\n",
    "img = img.astype(np.uint16)\n",
    "\n",
    "plt.imshow(img,cmap='gray')\n",
    "plt.show()\n"
   ]
  },
  {
   "cell_type": "markdown",
   "metadata": {},
   "source": [
    "## numpy数组合并\n",
    "- vstack\n",
    "- hstack"
   ]
  },
  {
   "cell_type": "code",
   "execution_count": null,
   "metadata": {},
   "outputs": [],
   "source": [
    "import numpy as np\n",
    "\n",
    "a = np.array([1,1,1])[:,np.newaxis]\n",
    "b = np.array([2,2,2])[:,np.newaxis]\n",
    "print(a)\n",
    "print(b)\n",
    "\n",
    "c = np.vstack((a,b))\n",
    "print(c)\n",
    "d = np.hstack((a,b))\n",
    "print(d)"
   ]
  },
  {
   "cell_type": "markdown",
   "metadata": {},
   "source": [
    "## numpy数组分割\n",
    "- split\n",
    "- hsplit"
   ]
  },
  {
   "cell_type": "code",
   "execution_count": null,
   "metadata": {},
   "outputs": [],
   "source": [
    "import numpy as np\n",
    "\n",
    "a = np.arange(24).reshape((4,6))\n",
    "print(a)\n",
    "b,c = np.split(a,2)\n",
    "print('sp')\n",
    "print(b)\n",
    "print(c)\n",
    "\n",
    "e,f,g = np.hsplit(a,3)\n",
    "print('vs')\n",
    "print(e)\n",
    "print(f)\n",
    "print(g)"
   ]
  },
  {
   "cell_type": "markdown",
   "metadata": {},
   "source": [
    "## numpy数组运算"
   ]
  },
  {
   "cell_type": "code",
   "execution_count": null,
   "metadata": {},
   "outputs": [],
   "source": [
    "import numpy as np \n",
    "\n",
    "a = np.arange(10,30,2)\n",
    "b = np.linspace(1,10,10)\n",
    "c = a-b\n",
    "d = a*b\n",
    "sum = a.sum()\n",
    "\n",
    "e = 100*np.random.random((10,5))\n",
    "e_max_1 = np.max(e,axis=1)\n",
    "e_max_0 = np.max(e,axis=0)\n",
    "e_min= np.min(e)"
   ]
  },
  {
   "cell_type": "markdown",
   "metadata": {},
   "source": [
    "## numpy矩阵运算\n",
    "- 点乘\n",
    "- 转置"
   ]
  },
  {
   "cell_type": "code",
   "execution_count": null,
   "metadata": {},
   "outputs": [],
   "source": [
    "import numpy as np\n",
    "\n",
    "a = np.arange(3,15).reshape((3,4))\n",
    "# 转置\n",
    "a_T = a.T\n",
    "print('print : a')\n",
    "print(a)\n",
    "print('print : a_T')\n",
    "print(a_T)\n",
    "\n",
    "# 矩阵乘法\n",
    "a_dot = np.dot(a,a_T)\n",
    "print('print : a dot a_T')\n",
    "print(a_dot)\n",
    "\n"
   ]
  },
  {
   "cell_type": "code",
   "execution_count": null,
   "metadata": {},
   "outputs": [],
   "source": [
    "import numpy as np\n",
    "\n",
    "a = np.array([[1,2,3,4,5,6,7,8,9],\n",
    "                [11,12,13,14,15,16,17,18,19],\n",
    "                [21,22,23,24,25,26,27,28,29],\n",
    "                [31,32,33,34,35,36,37,38,39]\n",
    "            ])\n",
    "\n",
    "b = a[::2,::2]"
   ]
  },
  {
   "cell_type": "markdown",
   "metadata": {},
   "source": [
    "## numpy 矩阵复制\n",
    "直接使用 b=a,只是一个引用,ab的内容会一直保持一致. 修改任意一个都会同时修改两个矩阵"
   ]
  },
  {
   "cell_type": "code",
   "execution_count": null,
   "metadata": {},
   "outputs": [],
   "source": [
    "import numpy as np \n",
    "\n",
    "a = np.array([1,2,3,4])\n",
    "b = a\n",
    "c = b\n",
    "\n",
    "print(a)\n",
    "print(b)\n",
    "print(c)\n",
    "\n",
    "a[0] = 0\n",
    "print(a)\n",
    "print(b)\n",
    "print(c)\n",
    "\n",
    "b = a.copy()\n",
    "a[1] = 100\n",
    "print(a)\n",
    "print(b)\n",
    "print(c)\n"
   ]
  },
  {
   "cell_type": "markdown",
   "metadata": {},
   "source": [
    "# 注意事项"
   ]
  },
  {
   "cell_type": "markdown",
   "metadata": {},
   "source": [
    "## numpy 数组数据类型转换"
   ]
  },
  {
   "cell_type": "code",
   "execution_count": null,
   "metadata": {},
   "outputs": [],
   "source": [
    "import numpy as np \n",
    "import cv2\n",
    "\n",
    "img1 = np.full((200,640),0,dtype=np.uint8)\n",
    "img2 = np.full((200,640),200,dtype=np.uint8)\n",
    "img3 = np.full((200,640),200,dtype=np.uint8)\n",
    "img4 = np.full((200,640),255,dtype=np.uint8)\n",
    "img = cv2.merge((img3,img2,img1))\n",
    "print(img.dtype)\n",
    "cv2.imshow('img',img)\n",
    "cv2.waitKey(0)\n",
    "cv2.destroyAllWindows()\n"
   ]
  }
 ],
 "metadata": {
  "kernelspec": {
   "display_name": "Python 3.6.6 64-bit",
   "language": "python",
   "name": "python3"
  },
  "language_info": {
   "codemirror_mode": {
    "name": "ipython",
    "version": 3
   },
   "file_extension": ".py",
   "mimetype": "text/x-python",
   "name": "python",
   "nbconvert_exporter": "python",
   "pygments_lexer": "ipython3",
   "version": "3.6.6"
  },
  "orig_nbformat": 4,
  "vscode": {
   "interpreter": {
    "hash": "8a9681e39844f652d5b4b9546f20ca4205a8167fe914e7d0f37c2626a073f228"
   }
  }
 },
 "nbformat": 4,
 "nbformat_minor": 2
}
