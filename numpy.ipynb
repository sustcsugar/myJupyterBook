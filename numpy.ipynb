{
 "cells": [
  {
   "cell_type": "markdown",
   "metadata": {},
   "source": [
    "# 学习numpy相关的函数\n"
   ]
  },
  {
   "cell_type": "markdown",
   "metadata": {},
   "source": [
    "## numpy数组的属性"
   ]
  },
  {
   "cell_type": "code",
   "execution_count": null,
   "metadata": {},
   "outputs": [],
   "source": [
    "import numpy as np\n",
    "\n",
    "array_1 = [[1,2,3],[5,6,7]]             # 普通的list数组\n",
    "array_2 = np.array([[1,2,3],[5,6,7]])   # 使用bp.array可以将list转换为numpy的矩阵格式\n",
    "print(array_2)\n",
    "print(\"dim : \", array_2.ndim)\n",
    "print(\"shape : \", array_2.shape)\n",
    "print(\"size : \", array_2.size)\n"
   ]
  },
  {
   "cell_type": "markdown",
   "metadata": {},
   "source": [
    "## numpy数组直接创建\n",
    "\n",
    "> [numpy官方手册](https://numpy.org/doc/stable/reference/generated/numpy.array.html)\n",
    "\n",
    "1. array\n",
    "2. arange\n",
    "3. linspace\n",
    "4. `numpy.zeros(shape, dtype=float, order='C', *, like=None)`\n",
    "5. `numpy.ones(shape, dtype=None, order='C', *, like=None)`\n",
    "6. `numpy.full(shape, fill_value, dtype=None, order='C', *, like=None)`\n",
    "7. `numpy.eye(N, M=None, k=0, dtype=<class 'float'>, order='C', *, like=None)`\n"
   ]
  },
  {
   "cell_type": "code",
   "execution_count": null,
   "metadata": {},
   "outputs": [],
   "source": [
    "import numpy as np\n",
    "\n",
    "# np.array\n",
    "a = np.array([12,34,500],np.int)\n",
    "# np.zeros\n",
    "b = np.zeros((3,4))\n",
    "print(b)\n",
    "print(b.dtype)"
   ]
  },
  {
   "cell_type": "markdown",
   "metadata": {},
   "source": [
    "## numpy从文件创建数组\n",
    "- fromfile"
   ]
  },
  {
   "cell_type": "code",
   "execution_count": null,
   "metadata": {},
   "outputs": [],
   "source": []
  },
  {
   "cell_type": "markdown",
   "metadata": {},
   "source": [
    "## numpy单个数组操作\n",
    "- clip\n",
    "- max\n",
    "- mix\n",
    "- median\n",
    "- mid\n",
    "- flat\n",
    "- pad\n",
    "- flatten"
   ]
  },
  {
   "cell_type": "code",
   "execution_count": 10,
   "metadata": {},
   "outputs": [
    {
     "name": "stdout",
     "output_type": "stream",
     "text": [
      "[[ 0  0  0  0  0  0  0  0]\n",
      " [ 0  0  0  3  4  5  6  0]\n",
      " [ 0  0  0  7  8  9 10  0]\n",
      " [ 0  0  0 11 12 13 14  0]\n",
      " [ 0  0  0  0  0  0  0  0]\n",
      " [ 0  0  0  0  0  0  0  0]\n",
      " [ 0  0  0  0  0  0  0  0]]\n"
     ]
    }
   ],
   "source": [
    "import numpy as np\n",
    "\n",
    "a = np.arange(3,15).reshape((3,4))\n",
    "# flatten()\n",
    "b = a.flatten()\n",
    "c = np.pad(a,((1,3),(3,1)))\n",
    "print(c)"
   ]
  },
  {
   "cell_type": "markdown",
   "metadata": {},
   "source": [
    "## numpy数组合并\n",
    "- vstack\n",
    "- hstack"
   ]
  },
  {
   "cell_type": "code",
   "execution_count": null,
   "metadata": {},
   "outputs": [],
   "source": [
    "import numpy as np\n",
    "\n",
    "a = np.array([1,1,1])[:,np.newaxis]\n",
    "b = np.array([2,2,2])[:,np.newaxis]\n",
    "print(a)\n",
    "print(b)\n",
    "\n",
    "c = np.vstack((a,b))\n",
    "print(c)\n",
    "d = np.hstack((a,b))\n",
    "print(d)"
   ]
  },
  {
   "cell_type": "markdown",
   "metadata": {},
   "source": [
    "## numpy数组分割\n",
    "- split\n",
    "- hsplit"
   ]
  },
  {
   "cell_type": "code",
   "execution_count": null,
   "metadata": {},
   "outputs": [],
   "source": [
    "import numpy as np\n",
    "\n",
    "a = np.arange(24).reshape((4,6))\n",
    "print(a)\n",
    "b,c = np.split(a,2)\n",
    "print('sp')\n",
    "print(b)\n",
    "print(c)\n",
    "\n",
    "e,f,g = np.hsplit(a,3)\n",
    "print('vs')\n",
    "print(e)\n",
    "print(f)\n",
    "print(g)"
   ]
  },
  {
   "cell_type": "markdown",
   "metadata": {},
   "source": [
    "## numpy数组运算"
   ]
  },
  {
   "cell_type": "code",
   "execution_count": null,
   "metadata": {},
   "outputs": [],
   "source": [
    "import numpy as np \n",
    "\n",
    "a = np.arange(10,30,2)\n",
    "b = np.linspace(1,10,10)\n",
    "c = a-b\n",
    "d = a*b\n",
    "\n",
    "e = 100*np.random.random((10,5))\n",
    "e_max_1 = np.max(e,axis=1)\n",
    "e_max_0 = np.max(e,axis=0)\n",
    "e_min= np.min(e)\n",
    "print(e)"
   ]
  },
  {
   "cell_type": "markdown",
   "metadata": {},
   "source": [
    "## numpy矩阵运算\n",
    "- 点乘\n",
    "- 转置"
   ]
  },
  {
   "cell_type": "code",
   "execution_count": null,
   "metadata": {},
   "outputs": [],
   "source": [
    "import numpy as np\n",
    "\n",
    "a = np.arange(3,15).reshape((3,4))\n",
    "# 转置\n",
    "a_T = a.T\n",
    "print('print : a')\n",
    "print(a)\n",
    "print('print : a_T')\n",
    "print(a_T)\n",
    "\n",
    "# 矩阵乘法\n",
    "a_dot = np.dot(a,a_T)\n",
    "print('print : a dot a_T')\n",
    "print(a_dot)\n",
    "\n"
   ]
  },
  {
   "cell_type": "markdown",
   "metadata": {},
   "source": [
    "## numpy 矩阵复制\n",
    "直接使用 b=a,只是一个引用,ab的内容会一直保持一致. 修改任意一个都会同时修改两个矩阵"
   ]
  },
  {
   "cell_type": "code",
   "execution_count": null,
   "metadata": {},
   "outputs": [],
   "source": [
    "import numpy as np \n",
    "\n",
    "a = np.array([1,2,3,4])\n",
    "b = a\n",
    "c = b\n",
    "\n",
    "print(a)\n",
    "print(b)\n",
    "print(c)\n",
    "\n",
    "a[0] = 0\n",
    "print(a)\n",
    "print(b)\n",
    "print(c)\n",
    "\n",
    "b = a.copy()\n",
    "a[1] = 100\n",
    "print(a)\n",
    "print(b)\n",
    "print(c)\n"
   ]
  },
  {
   "cell_type": "markdown",
   "metadata": {},
   "source": [
    "## numpy 数组的数据类型"
   ]
  },
  {
   "cell_type": "code",
   "execution_count": null,
   "metadata": {},
   "outputs": [],
   "source": [
    "import numpy as np \n",
    "import cv2\n",
    "\n",
    "img1 = np.full((200,640),0,dtype=np.uint8)\n",
    "img2 = np.full((200,640),200,dtype=np.uint8)\n",
    "img3 = np.full((200,640),200,dtype=np.uint8)\n",
    "img4 = np.full((200,640),255,dtype=np.uint8)\n",
    "img = cv2.merge((img3,img2,img1))\n",
    "print(img.dtype)\n",
    "cv2.imshow('img',img)\n",
    "cv2.waitKey(0)\n",
    "cv2.destroyAllWindows()\n"
   ]
  }
 ],
 "metadata": {
  "kernelspec": {
   "display_name": "Python 3.6.6 64-bit",
   "language": "python",
   "name": "python3"
  },
  "language_info": {
   "codemirror_mode": {
    "name": "ipython",
    "version": 3
   },
   "file_extension": ".py",
   "mimetype": "text/x-python",
   "name": "python",
   "nbconvert_exporter": "python",
   "pygments_lexer": "ipython3",
   "version": "3.6.6"
  },
  "orig_nbformat": 4,
  "vscode": {
   "interpreter": {
    "hash": "8a9681e39844f652d5b4b9546f20ca4205a8167fe914e7d0f37c2626a073f228"
   }
  }
 },
 "nbformat": 4,
 "nbformat_minor": 2
}
