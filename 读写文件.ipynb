{
 "cells": [
  {
   "cell_type": "markdown",
   "metadata": {},
   "source": [
    "## 读取文件"
   ]
  },
  {
   "cell_type": "code",
   "execution_count": 1,
   "metadata": {},
   "outputs": [],
   "source": [
    "file_path = './dataset/config.csv'\n",
    "\n",
    "with open(file_path,'r',encoding='utf-8-sig') as f:\n",
    "    data = f.readlines()\n",
    "\n"
   ]
  },
  {
   "cell_type": "markdown",
   "metadata": {},
   "source": [
    "## 读取csv文件内容"
   ]
  },
  {
   "cell_type": "code",
   "execution_count": 1,
   "metadata": {},
   "outputs": [
    {
     "name": "stdout",
     "output_type": "stream",
     "text": [
      "['Variables', 'Values', 'Description'] 1\n",
      "['raw_w', '1920', 'Raw image width'] 2\n",
      "['raw_h', '1080', 'Raw image height'] 3\n",
      "['dpc_thres', '30', 'DPC threshold'] 4\n",
      "['dpc_mode', 'gradient', 'DPC mode'] 5\n",
      "['dpc_clip', '1023', 'DPC clip value'] 6\n",
      "['bayer_pattern', 'rggb', 'Bayer pattern'] 7\n",
      "['bl_r', '0', 'Black level offset of Red channel'] 8\n",
      "['bl_gr', '0', 'Black level offset of Green(R) channel'] 9\n",
      "['bl_gb', '0', 'Black level offset of Green(B) channel'] 10\n",
      "['bl_b', '0', 'Black level offset of Blue channel'] 11\n",
      "['alpha', '0', 'Fusion parameter for Red channel'] 12\n",
      "['beta', '0', 'Fusion parameter for Blue channel'] 13\n",
      "['blc_clip', '1023', 'BLC clip value'] 14\n",
      "['r_gain', '1.5', 'AWB Red gain'] 15\n",
      "['gr_gain', '1', 'AWB Green(R) gain'] 16\n",
      "['gb_gain', '1.1', 'AWB Green(B) gain'] 17\n",
      "['awb_clip', '1023', 'AWB clip value'] 18\n",
      "['cfa_mode', 'malvar', 'Demosaic mode'] 19\n",
      "['cfa_clip', '1023', 'CFA clip value'] 20\n",
      "['ccm_00', '1024', 'CCM'] 21\n",
      "['ccm_01', '0', 'CCM'] 22\n",
      "['ccm_02', '0', 'CCM'] 23\n",
      "['ccm_03', '0', 'CCM offset'] 24\n",
      "['ccm_10', '0', 'CCM'] 25\n",
      "['ccm_11', '1024', 'CCM'] 26\n",
      "['ccm_12', '0', 'CCM'] 27\n",
      "['ccm_13', '0', 'CCM offset'] 28\n",
      "['ccm_20', '0', 'CCM'] 29\n",
      "['ccm_21', '0', 'CCM'] 30\n",
      "['ccm_22', '1024', 'CCM'] 31\n",
      "['ccm_23', '0', 'CCM offset'] 32\n",
      "['csc_00', '0.257', 'CSC'] 33\n",
      "['csc_01', '0.504', 'CSC'] 34\n",
      "['csc_02', '0.098', 'CSC'] 35\n",
      "['csc_03', '16', 'CSC offset'] 36\n",
      "['csc_10', '-0.148', 'CSC'] 37\n",
      "['csc_11', '-0.291', 'CSC'] 38\n",
      "['csc_12', '0.439', 'CSC'] 39\n",
      "['csc_13', '128', 'CSC offset'] 40\n",
      "['csc_20', '0.439', 'CSC'] 41\n",
      "['csc_21', '-0.368', 'CSC'] 42\n",
      "['csc_22', '-0.071', 'CSC'] 43\n",
      "['csc_23', '128', 'CSC offset'] 44\n",
      "['bnf_dw_00', '8', 'BNF distance weights'] 45\n",
      "['bnf_dw_01', '12', 'BNF distance weights'] 46\n",
      "['bnf_dw_02', '32', 'BNF distance weights'] 47\n",
      "['bnf_dw_03', '12', 'BNF distance weights'] 48\n",
      "['bnf_dw_04', '8', 'BNF distance weights'] 49\n",
      "['bnf_dw_10', '12', 'BNF distance weights'] 50\n",
      "['bnf_dw_11', '64', 'BNF distance weights'] 51\n",
      "['bnf_dw_12', '128', 'BNF distance weights'] 52\n",
      "['bnf_dw_13', '64', 'BNF distance weights'] 53\n",
      "['bnf_dw_14', '12', 'BNF distance weights'] 54\n",
      "['bnf_dw_20', '32', 'BNF distance weights'] 55\n",
      "['bnf_dw_21', '128', 'BNF distance weights'] 56\n",
      "['bnf_dw_22', '1024', 'BNF distance weights'] 57\n",
      "['bnf_dw_23', '128', 'BNF distance weights'] 58\n",
      "['bnf_dw_24', '32', 'BNF distance weights'] 59\n",
      "['bnf_dw_30', '12', 'BNF distance weights'] 60\n",
      "['bnf_dw_31', '64', 'BNF distance weights'] 61\n",
      "['bnf_dw_32', '128', 'BNF distance weights'] 62\n",
      "['bnf_dw_33', '64', 'BNF distance weights'] 63\n",
      "['bnf_dw_34', '12', 'BNF distance weights'] 64\n",
      "['bnf_dw_40', '8', 'BNF distance weights'] 65\n",
      "['bnf_dw_41', '12', 'BNF distance weights'] 66\n",
      "['bnf_dw_42', '32', 'BNF distance weights'] 67\n",
      "['bnf_dw_43', '12', 'BNF distance weights'] 68\n",
      "['bnf_dw_44', '8', 'BNF distance weights'] 69\n",
      "['bnf_rw_0', '0', 'BNF radiometric diff'] 70\n",
      "['bnf_rw_1', '8', 'BNF radiometric diff'] 71\n",
      "['bnf_rw_2', '16', 'BNF radiometric diff'] 72\n",
      "['bnf_rw_3', '32', 'BNF radiometric diff'] 73\n",
      "['bnf_rthres_0', '128', 'BNF diff threshold'] 74\n",
      "['bnf_rthres_1', '32', 'BNF diff threshold'] 75\n",
      "['bnf_rthres_2', '8', 'BNF diff threshold'] 76\n",
      "['bnf_clip', '255', 'BNF clip value'] 77\n",
      "['edge_filter_00', '-1', 'Edge filter'] 78\n",
      "['edge_filter_01', '0', 'Edge filter'] 79\n",
      "['edge_filter_02', '-1', 'Edge filter'] 80\n",
      "['edge_filter_03', '0', 'Edge filter'] 81\n",
      "['edge_filter_04', '-1', 'Edge filter'] 82\n",
      "['edge_filter_10', '-1', 'Edge filter'] 83\n",
      "['edge_filter_11', '0', 'Edge filter'] 84\n",
      "['edge_filter_12', '8', 'Edge filter'] 85\n",
      "['edge_filter_13', '0', 'Edge filter'] 86\n",
      "['edge_filter_14', '-1', 'Edge filter'] 87\n",
      "['edge_filter_20', '-1', 'Edge filter'] 88\n",
      "['edge_filter_21', '0', 'Edge filter'] 89\n",
      "['edge_filter_22', '-1', 'Edge filter'] 90\n",
      "['edge_filter_23', '0', 'Edge filter'] 91\n",
      "['edge_filter_24', '-1', 'Edge filter'] 92\n",
      "['ee_gain_min', '32', 'Edge enhancement min gain'] 93\n",
      "['ee_gain_max', '128', 'Edge enhancement max gain'] 94\n",
      "['ee_thres_min', '32', 'Edge enhancement min threshold'] 95\n",
      "['ee_thres_max', '64', 'Edge enhancement max threshold'] 96\n",
      "['ee_emclip_min', '-64', 'Edge map min clip value'] 97\n",
      "['ee_emclip_max', '64', 'Edge map max clip value'] 98\n",
      "['fcs_edge_min', '32', 'FCS edge min value'] 99\n",
      "['fcs_edge_max', '64', 'FCS edge max value'] 100\n",
      "['fcs_gain', '32', 'FCS gain'] 101\n",
      "['fcs_intercept', '2', 'FCS intercept'] 102\n",
      "['fcs_slope', '3', 'FCS slope'] 103\n",
      "['nlm_h', '15', 'NLM sigma'] 104\n",
      "['nlm_clip', '255', 'NLM clip'] 105\n",
      "['hue', '128', 'Hue value'] 106\n",
      "['saturation', '256', 'Saturation gain'] 107\n",
      "['hsc_clip', '255', 'HSC clip value'] 108\n",
      "['brightness', '10', 'Brightness'] 109\n",
      "['contrast', '10', 'Contast gain'] 110\n",
      "['bcc_clip', '255', 'BCC clip value'] 111\n"
     ]
    }
   ],
   "source": [
    "import csv\n",
    "\n",
    "csv_path = './dataset/config.csv'\n",
    "with open(csv_path,'r',encoding = 'utf-8-sig') as f:\n",
    "    reader = csv.reader(f,delimiter=',')\n",
    "    for row in reader:\n",
    "        print(row,reader.line_num)"
   ]
  }
 ],
 "metadata": {
  "kernelspec": {
   "display_name": "Python 3.6.6 64-bit",
   "language": "python",
   "name": "python3"
  },
  "language_info": {
   "codemirror_mode": {
    "name": "ipython",
    "version": 3
   },
   "file_extension": ".py",
   "mimetype": "text/x-python",
   "name": "python",
   "nbconvert_exporter": "python",
   "pygments_lexer": "ipython3",
   "version": "3.6.6"
  },
  "orig_nbformat": 4,
  "vscode": {
   "interpreter": {
    "hash": "8a9681e39844f652d5b4b9546f20ca4205a8167fe914e7d0f37c2626a073f228"
   }
  }
 },
 "nbformat": 4,
 "nbformat_minor": 2
}
